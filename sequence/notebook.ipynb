{
 "cells": [
  {
   "cell_type": "markdown",
   "metadata": {},
   "source": [
    "A sequence is series of letters used to represent an organism's protein, DNA or RNA. It's represented by *Seq* classs. *Seq* class is defined in `Bio.Seq` module."
   ]
  },
  {
   "cell_type": "code",
   "execution_count": null,
   "metadata": {
    "vscode": {
     "languageId": "plaintext"
    }
   },
   "outputs": [],
   "source": []
  }
 ],
 "metadata": {
  "language_info": {
   "name": "python"
  },
  "orig_nbformat": 4
 },
 "nbformat": 4,
 "nbformat_minor": 2
}
